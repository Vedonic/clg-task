{
 "cells": [
  {
   "cell_type": "code",
   "execution_count": 12,
   "metadata": {},
   "outputs": [
    {
     "name": "stdout",
     "output_type": "stream",
     "text": [
      "Enter The Number4\n",
      "the factorial is 24\n"
     ]
    }
   ],
   "source": [
    "def fac(val):\n",
    "    if val==1:\n",
    "        return 1\n",
    "    else :\n",
    "        return val*fac(val-1)\n",
    "x=int(input('enter the number'.title()))\n",
    "print('the factorial is {}'.format(fac(x)))"
   ]
  },
  {
   "cell_type": "code",
   "execution_count": 11,
   "metadata": {},
   "outputs": [
    {
     "name": "stdout",
     "output_type": "stream",
     "text": [
      "Enter The Number7\n",
      " 0 1 2 3 4 5 6\n"
     ]
    }
   ],
   "source": [
    "def nat(val):\n",
    "    i=0\n",
    "    k=''\n",
    "    while i<val:\n",
    "        k+=\" \"+str(i)\n",
    "        i+=1\n",
    "    print(k)\n",
    "x=int(input('enter the number'.title()))\n",
    "nat(x)"
   ]
  },
  {
   "cell_type": "code",
   "execution_count": 16,
   "metadata": {},
   "outputs": [
    {
     "name": "stdout",
     "output_type": "stream",
     "text": [
      "enter lower limit100\n",
      "enter upper limit1\n",
      "The Number Of Palindromes Between 1 And 100 is 18\n"
     ]
    }
   ],
   "source": [
    "def palin(val):\n",
    "    if str(val)==str(val)[::-1]:\n",
    "        return 1\n",
    "    else:\n",
    "        return 0\n",
    "b=int(input('enter lower limit').title())\n",
    "c=int(input('enter upper limit').title())\n",
    "cnt=0\n",
    "if(b>c):\n",
    "    mi,ma=c,b\n",
    "elif(c>b):\n",
    "    mi,ma=b,c\n",
    "for i in range(mi,ma+1):\n",
    "    s=palin(i)\n",
    "    if s==1:\n",
    "        cnt+=1\n",
    "print('The Number Of Palindromes Between {} And {} is {}'.format(mi,ma,cnt))"
   ]
  },
  {
   "cell_type": "code",
   "execution_count": null,
   "metadata": {},
   "outputs": [],
   "source": []
  }
 ],
 "metadata": {},
 "nbformat": 4,
 "nbformat_minor": 2
}
