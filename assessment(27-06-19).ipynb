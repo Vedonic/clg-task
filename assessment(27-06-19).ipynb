{
 "cells": [
  {
   "cell_type": "code",
   "execution_count": 6,
   "metadata": {},
   "outputs": [
    {
     "name": "stdout",
     "output_type": "stream",
     "text": [
      "the count of lower case characters : 600\n",
      "the count of digits : 90\n",
      "the count of special characters : 100\n"
     ]
    }
   ],
   "source": [
    "f=open('textnew.txt','w') #to create a file\n",
    "\n",
    "#to write data in the file\n",
    "for i in range(50):\n",
    "    f.write('this is line no. {} \\n'.format(i))\n",
    "\n",
    "chlt=['q', 'w', 'e', 'r', 't', 'y', 'u', 'i', 'o', 'p', 'a', 's', 'd', 'f', 'g', 'h', 'j', 'k', 'l', 'z', 'x', 'c', 'v', 'b', 'n', 'm', 'Q', 'W', 'E', 'R', 'T', 'Y', 'U', 'I', 'O', 'P', 'A', 'S', 'D', 'F', 'G', 'H', 'J', 'K', 'L', 'Z', 'X', 'C', 'V', 'B', 'N', 'M', ' ', '1', '2', '3', '4', '5', '6', '7', '8', '9', '0']\n",
    "\n",
    "# to return count of lower case characters , digits , special characters :\n",
    "f=open('textnew.txt','r')\n",
    "lt=f.readlines()\n",
    "f.close()\n",
    "cl,cd,cs=0,0,0\n",
    "for i in lt:\n",
    "    for j in i:\n",
    "        if j.islower():\n",
    "            cl+=1\n",
    "        elif j.isnumeric():\n",
    "            cd+=1\n",
    "        elif j not in chlt:\n",
    "            cs+=1\n",
    "print('the count of lower case characters : {}'.format(cl))\n",
    "print('the count of digits : {}'.format(cd))\n",
    "print('the count of special characters : {}'.format(cs))"
   ]
  },
  {
   "cell_type": "code",
   "execution_count": 2,
   "metadata": {},
   "outputs": [
    {
     "name": "stdout",
     "output_type": "stream",
     "text": [
      "Enter Your Namewakau\n",
      "Enter Your Email-Idwakau.123@gmail.com\n",
      "Enter Your Phone Number8876767676\n"
     ]
    }
   ],
   "source": [
    "import re\n",
    "# Validation for EmailID Username@DomainName.extension\n",
    "def validateEmailID(email):\n",
    "    pattern=\"^[0-9a-z][0-9a-z_.]{5,14}[0-9a-z][@][a-z0-9]{3,18}[.][a-z]{2,4}$\"\n",
    "    if re.match(pattern,email):\n",
    "        return True\n",
    "    return False\n",
    "# Validation for Phone Number\n",
    "def phoneNumberVariable(phone):\n",
    "    pattern='^[6-9][0-9]{9}$|^[0][6-9][0-9]{9}$|^[+][9][1][6-9][0-9]{9}$'\n",
    "    phone=str(phone)\n",
    "    if re.match(pattern,phone):\n",
    "        return True\n",
    "    return False\n",
    "\n",
    "f=open('infonew.txt','a') #to create a file\n",
    "\n",
    "n=input('enter your name'.title())\n",
    "z,d=False,False\n",
    "while z!=True:\n",
    "    e=input('enter your Email-Id'.title())\n",
    "    z=validateEmailID(e)\n",
    "    if z==False:\n",
    "        print('Email-Id Not Valid . Try Again')\n",
    "while d!=True:\n",
    "    p=input('enter your phone number'.title())\n",
    "    d=phoneNumberVariable(p)\n",
    "    if d==False:\n",
    "        print('Phone Number Not Valid . Try Again')\n",
    "\n",
    "# To write name , Email-id and Phone number in file after validating :\n",
    "s=n+' '+e+' '+p+'\\n'\n",
    "f.write(s)\n",
    "f.close()"
   ]
  },
  {
   "cell_type": "code",
   "execution_count": null,
   "metadata": {},
   "outputs": [],
   "source": []
  }
 ],
 "metadata": {
  "kernelspec": {
   "display_name": "Python 3",
   "language": "python",
   "name": "python3"
  },
  "language_info": {
   "codemirror_mode": {
    "name": "ipython",
    "version": 3
   },
   "file_extension": ".py",
   "mimetype": "text/x-python",
   "name": "python",
   "nbconvert_exporter": "python",
   "pygments_lexer": "ipython3",
   "version": "3.7.3"
  }
 },
 "nbformat": 4,
 "nbformat_minor": 2
}
