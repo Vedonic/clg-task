{
 "cells": [
  {
   "cell_type": "code",
   "execution_count": 1,
   "metadata": {},
   "outputs": [
    {
     "name": "stdout",
     "output_type": "stream",
     "text": [
      "task done\n"
     ]
    }
   ],
   "source": [
    "f=open('C:/Users/mechlab/filenew.txt','a')\n",
    "for i in range(100):\n",
    "    f.write('this is line no. {} \\n'.format(i))\n",
    "print('task done')\n",
    "f.close()"
   ]
  },
  {
   "cell_type": "code",
   "execution_count": 3,
   "metadata": {},
   "outputs": [
    {
     "name": "stdout",
     "output_type": "stream",
     "text": [
      "this is line no. 0 \n",
      "\n",
      "this is line no. 1 \n",
      "\n",
      "this is line no. 2 \n",
      "\n",
      "this is line no. 3 \n",
      "\n",
      "this is line no. 4 \n",
      "\n",
      "this is line no. 5 \n",
      "\n",
      "this is line no. 6 \n",
      "\n",
      "this is line no. 7 \n",
      "\n",
      "this is line no. 8 \n",
      "\n",
      "this is line no. 9 \n",
      "\n",
      "this is line no. 10 \n",
      "\n",
      "this is line no. 11 \n",
      "\n",
      "this is line no. 12 \n",
      "\n",
      "this is line no. 13 \n",
      "\n",
      "this is line no. 14 \n",
      "\n",
      "this is line no. 15 \n",
      "\n",
      "this is line no. 16 \n",
      "\n",
      "this is line no. 17 \n",
      "\n",
      "this is line no. 18 \n",
      "\n",
      "this is line no. 19 \n",
      "\n",
      "this is line no. 20 \n",
      "\n",
      "this is line no. 21 \n",
      "\n",
      "this is line no. 22 \n",
      "\n",
      "this is line no. 23 \n",
      "\n",
      "this is line no. 24 \n",
      "\n",
      "this is line no. 25 \n",
      "\n",
      "this is line no. 26 \n",
      "\n",
      "this is line no. 27 \n",
      "\n",
      "this is line no. 28 \n",
      "\n",
      "this is line no. 29 \n",
      "\n",
      "this is line no. 30 \n",
      "\n",
      "this is line no. 31 \n",
      "\n",
      "this is line no. 32 \n",
      "\n",
      "this is line no. 33 \n",
      "\n",
      "this is line no. 34 \n",
      "\n",
      "this is line no. 35 \n",
      "\n",
      "this is line no. 36 \n",
      "\n",
      "this is line no. 37 \n",
      "\n",
      "this is line no. 38 \n",
      "\n",
      "this is line no. 39 \n",
      "\n",
      "this is line no. 40 \n",
      "\n",
      "this is line no. 41 \n",
      "\n",
      "this is line no. 42 \n",
      "\n",
      "this is line no. 43 \n",
      "\n",
      "this is line no. 44 \n",
      "\n",
      "this is line no. 45 \n",
      "\n",
      "this is line no. 46 \n",
      "\n",
      "this is line no. 47 \n",
      "\n",
      "this is line no. 48 \n",
      "\n",
      "this is line no. 49 \n",
      "\n",
      "this is line no. 50 \n",
      "\n",
      "this is line no. 51 \n",
      "\n",
      "this is line no. 52 \n",
      "\n",
      "this is line no. 53 \n",
      "\n",
      "this is line no. 54 \n",
      "\n",
      "this is line no. 55 \n",
      "\n",
      "this is line no. 56 \n",
      "\n",
      "this is line no. 57 \n",
      "\n",
      "this is line no. 58 \n",
      "\n",
      "this is line no. 59 \n",
      "\n",
      "this is line no. 60 \n",
      "\n",
      "this is line no. 61 \n",
      "\n",
      "this is line no. 62 \n",
      "\n",
      "this is line no. 63 \n",
      "\n",
      "this is line no. 64 \n",
      "\n",
      "this is line no. 65 \n",
      "\n",
      "this is line no. 66 \n",
      "\n",
      "this is line no. 67 \n",
      "\n",
      "this is line no. 68 \n",
      "\n",
      "this is line no. 69 \n",
      "\n",
      "this is line no. 70 \n",
      "\n",
      "this is line no. 71 \n",
      "\n",
      "this is line no. 72 \n",
      "\n",
      "this is line no. 73 \n",
      "\n",
      "this is line no. 74 \n",
      "\n",
      "this is line no. 75 \n",
      "\n",
      "this is line no. 76 \n",
      "\n",
      "this is line no. 77 \n",
      "\n",
      "this is line no. 78 \n",
      "\n",
      "this is line no. 79 \n",
      "\n",
      "this is line no. 80 \n",
      "\n",
      "this is line no. 81 \n",
      "\n",
      "this is line no. 82 \n",
      "\n",
      "this is line no. 83 \n",
      "\n",
      "this is line no. 84 \n",
      "\n",
      "this is line no. 85 \n",
      "\n",
      "this is line no. 86 \n",
      "\n",
      "this is line no. 87 \n",
      "\n",
      "this is line no. 88 \n",
      "\n",
      "this is line no. 89 \n",
      "\n",
      "this is line no. 90 \n",
      "\n",
      "this is line no. 91 \n",
      "\n",
      "this is line no. 92 \n",
      "\n",
      "this is line no. 93 \n",
      "\n",
      "this is line no. 94 \n",
      "\n",
      "this is line no. 95 \n",
      "\n",
      "this is line no. 96 \n",
      "\n",
      "this is line no. 97 \n",
      "\n",
      "this is line no. 98 \n",
      "\n",
      "this is line no. 99 \n",
      "\n"
     ]
    }
   ],
   "source": [
    "f=open('C:/Users/mechlab/filenew.txt')\n",
    "lt=f.readlines()\n",
    "for i in lt:\n",
    "    print(i)"
   ]
  },
  {
   "cell_type": "code",
   "execution_count": 9,
   "metadata": {},
   "outputs": [
    {
     "name": "stdout",
     "output_type": "stream",
     "text": [
      "Test line 0\n",
      "\n",
      "Test line 1\n",
      "\n",
      "Test line 2\n",
      "\n",
      "Test line 3\n",
      "\n",
      "Test line 4\n",
      "\n",
      "Test line 5\n",
      "\n",
      "Test line 6\n",
      "\n",
      "Test line 7\n",
      "\n",
      "Test line 8\n",
      "\n",
      "Test line 9\n",
      "\n"
     ]
    }
   ],
   "source": [
    "f=open('C:/Users/mechlab/filenew.txt','a')\n",
    "for i in range(10):\n",
    "    f.write('Test line {}\\n'.format(i))\n",
    "f=open('C:/Users/mechlab/filenew.txt','r')\n",
    "lt,lz=f.readlines(),[]\n",
    "for i in lt:\n",
    "    if str(i).startswith('Test'):\n",
    "        lz.append(i)\n",
    "f.close()\n",
    "for i in lz:\n",
    "    print(i)"
   ]
  },
  {
   "cell_type": "code",
   "execution_count": 7,
   "metadata": {},
   "outputs": [
    {
     "name": "stdout",
     "output_type": "stream",
     "text": [
      "the number of characters : 2450\n"
     ]
    }
   ],
   "source": [
    "f=open('C:/Users/mechlab/filenew.txt','r')\n",
    "lt=f.readlines()\n",
    "f.close()\n",
    "cnt=0\n",
    "for i in lt:\n",
    "    for j in i:\n",
    "        cnt+=1\n",
    "print('the number of characters : {}'.format(cnt))"
   ]
  },
  {
   "cell_type": "code",
   "execution_count": 10,
   "metadata": {},
   "outputs": [
    {
     "name": "stdout",
     "output_type": "stream",
     "text": [
      "the number of characters : 10\n"
     ]
    }
   ],
   "source": [
    "f=open('C:/Users/mechlab/filenew.txt','r')\n",
    "lt=f.readlines()\n",
    "f.close()\n",
    "cnt=0\n",
    "for i in lt:\n",
    "    for j in i:\n",
    "        if j.isupper():\n",
    "            cnt+=1\n",
    "print('the number of characters : {}'.format(cnt))"
   ]
  },
  {
   "cell_type": "code",
   "execution_count": 11,
   "metadata": {},
   "outputs": [
    {
     "name": "stdout",
     "output_type": "stream",
     "text": [
      "the number of lines : 140\n"
     ]
    }
   ],
   "source": [
    "f=open('C:/Users/mechlab/filenew.txt','r')\n",
    "lt=f.readlines()\n",
    "f.close()\n",
    "cnt=0\n",
    "for i in lt:\n",
    "    cnt+=1\n",
    "print('the number of lines : {}'.format(cnt))"
   ]
  },
  {
   "cell_type": "code",
   "execution_count": 2,
   "metadata": {},
   "outputs": [
    {
     "name": "stdout",
     "output_type": "stream",
     "text": [
      "True\n",
      "False\n"
     ]
    }
   ],
   "source": [
    "import re\n",
    "# Validation for EmailID Username@DomainName.extension\n",
    "def validateEmailID(email):\n",
    "    pattern=\"^[0-9a-z][0-9a-z_.]{5,14}[0-9a-z][@][a-z0-9]{3,18}[.][a-z]{2,4}$\"\n",
    "    if re.match(pattern,email):\n",
    "        return True\n",
    "    return False\n",
    "print(validateEmailID(\"anil.1889@gmail.com\"))\n",
    "print(validateEmailID(\"$anil.1889@gmail.com\"))"
   ]
  },
  {
   "cell_type": "code",
   "execution_count": 1,
   "metadata": {},
   "outputs": [
    {
     "name": "stdout",
     "output_type": "stream",
     "text": [
      "True\n",
      "True\n",
      "True\n"
     ]
    }
   ],
   "source": [
    "import re\n",
    "def phoneNumberVariable(phone):\n",
    "    pattern='^[6-9][0-9]{9}$|^[0][6-9][0-9]{9}$|^[+][9][1][6-9][0-9]{9}$'\n",
    "    phone=str(phone)\n",
    "    if re.match(pattern,phone):\n",
    "        return True\n",
    "    return False\n",
    "print(phoneNumberVariable(\"+917032653823\"))\n",
    "print(phoneNumberVariable(\"08712345674\"))\n",
    "print(phoneNumberVariable(\"8712345674\"))"
   ]
  },
  {
   "cell_type": "code",
   "execution_count": null,
   "metadata": {},
   "outputs": [],
   "source": []
  },
  {
   "cell_type": "code",
   "execution_count": null,
   "metadata": {},
   "outputs": [],
   "source": []
  }
 ],
 "metadata": {
  "kernelspec": {
   "display_name": "Python 3",
   "language": "python",
   "name": "python3"
  },
  "language_info": {
   "codemirror_mode": {
    "name": "ipython",
    "version": 3
   },
   "file_extension": ".py",
   "mimetype": "text/x-python",
   "name": "python",
   "nbconvert_exporter": "python",
   "pygments_lexer": "ipython3",
   "version": "3.7.3"
  }
 },
 "nbformat": 4,
 "nbformat_minor": 2
}
