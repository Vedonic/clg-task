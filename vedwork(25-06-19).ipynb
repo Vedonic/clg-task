{
 "cells": [
  {
   "cell_type": "code",
   "execution_count": 4,
   "metadata": {},
   "outputs": [
    {
     "name": "stdout",
     "output_type": "stream",
     "text": [
      "Enter The Size Of List 5\n",
      "Enter An Element 1\n",
      "Enter An Element 1\n",
      "Number Already Taken. Enter Another New Number\n",
      "Enter An Element 2\n",
      "Enter An Element 3\n",
      "Enter An Element 4\n",
      "Enter An Element 5\n",
      "Enter A Number To Search 5\n",
      "sorted list : ['1', '2', '3', '4', '5']\n",
      "In this 5 was found at 4rd index position\n"
     ]
    }
   ],
   "source": [
    "\n",
    "def mklt(l):\n",
    "    global lt\n",
    "    i=1\n",
    "    while i<=l:\n",
    "        k=input('enter an element '.title())\n",
    "        if k.isdecimal():\n",
    "            if not (k in lt):\n",
    "                lt.append(k)\n",
    "                i+=1\n",
    "            else:\n",
    "                print('number already taken. enter another new number'.title())\n",
    "        else:\n",
    "            print('enter a number please '.title())\n",
    "\n",
    "def bs(e,lp,up):\n",
    "    global lt\n",
    "    if (int(lt[-1])==int(e)):\n",
    "        return up-1\n",
    "    m=(lp+up)//2\n",
    "    if up>=lp:\n",
    "        if int(lt[m])==int(e):\n",
    "            return m\n",
    "        elif int(lt[m])>int(e):\n",
    "            return bs(e,lp,m-1)\n",
    "        elif int(lt[m])>int(e):\n",
    "            return bs(e,m+1,up)\n",
    "    else:\n",
    "        return -1\n",
    "\n",
    "l=int(input('enter the size of list '.title()))\n",
    "lt=[]\n",
    "mklt(l)\n",
    "lt.sort()\n",
    "s=input('enter a number to search '.title())\n",
    "z=bs(s,0,l)\n",
    "if z==-1 or z==None:\n",
    "    print('element not found'.title())\n",
    "else:\n",
    "    print('sorted list : {}'.format(lt))\n",
    "    print('In this {} was found at {}rd index position'.format(s,z))\n"
   ]
  },
  {
   "cell_type": "code",
   "execution_count": 5,
   "metadata": {},
   "outputs": [
    {
     "name": "stdout",
     "output_type": "stream",
     "text": [
      "Enter The Size Of List 6\n",
      "Enter An Element 19\n",
      "Enter An Element 1\n",
      "Enter An Element 25\n",
      "Enter An Element 6\n",
      "Enter An Element 4\n",
      "Enter An Element 34\n",
      "Current List : ['19', '1', '25', '6', '4', '34']\n",
      "After Bubble Sort , List : ['1', '4', '6', '19', '25', '34']\n"
     ]
    }
   ],
   "source": [
    "def bubble():\n",
    "    for j in range(len(lt)):\n",
    "        for i in range(len(lt)-1):\n",
    "            if int(lt[i])>int(lt[i+1]):\n",
    "                lt[i],lt[i+1]=lt[i+1],lt[i]\n",
    "\n",
    "def mklt(l):\n",
    "    global lt\n",
    "    i=1\n",
    "    while i<=l:\n",
    "        k=input('enter an element '.title())\n",
    "        if k.isdecimal():\n",
    "            lt.append(k)\n",
    "            i+=1\n",
    "        else:\n",
    "            print('enter a number please '.title())\n",
    "\n",
    "l=int(input('enter the size of list '.title()))\n",
    "lt=[]\n",
    "mklt(l)\n",
    "print('Current List : {}'.format(lt))\n",
    "bubble()\n",
    "print('After Bubble Sort , List : {}'.format(lt))"
   ]
  },
  {
   "cell_type": "code",
   "execution_count": 3,
   "metadata": {},
   "outputs": [
    {
     "name": "stdout",
     "output_type": "stream",
     "text": [
      "Enter The String WEST WORld\n",
      "The Count Of Upper Case Characters Is 7\n"
     ]
    }
   ],
   "source": [
    "def cupc(val):\n",
    "    cnt=0\n",
    "    for i in val:\n",
    "        if ord(i)>=65 and ord(i)<=90:\n",
    "            cnt+=1\n",
    "    return cnt\n",
    "s=input('enter the string '.title())\n",
    "z=cupc(s)\n",
    "print('The Count Of Upper Case Characters Is {}'.format(z))"
   ]
  },
  {
   "cell_type": "code",
   "execution_count": 7,
   "metadata": {},
   "outputs": [
    {
     "name": "stdout",
     "output_type": "stream",
     "text": [
      "Enter The String : 324uy32g1g32e13ty2ty4f123y43uf124\n",
      "RESULT : 32432132132412343124\n"
     ]
    }
   ],
   "source": [
    "def num(val):\n",
    "    cnt=''\n",
    "    for i in val:\n",
    "        if i.isdecimal():\n",
    "            cnt+=str(i)\n",
    "    return cnt\n",
    "s=input('enter the string : '.title())\n",
    "z=num(s)\n",
    "print('RESULT : {}'.format(z))"
   ]
  },
  {
   "cell_type": "code",
   "execution_count": 1,
   "metadata": {},
   "outputs": [
    {
     "name": "stdout",
     "output_type": "stream",
     "text": [
      "Enter The String : application1889\n",
      "RESULT : 26\n"
     ]
    }
   ],
   "source": [
    "def num(val):\n",
    "    cnt=0\n",
    "    for i in val:\n",
    "        if i.isdecimal():\n",
    "            cnt+=int(i)\n",
    "    return cnt\n",
    "s=input('enter the string : '.title())\n",
    "z=num(s)\n",
    "print('RESULT : {}'.format(z))"
   ]
  },
  {
   "cell_type": "code",
   "execution_count": 2,
   "metadata": {},
   "outputs": [
    {
     "name": "stdout",
     "output_type": "stream",
     "text": [
      "Enter The String : application1889\n",
      "RESULT : 16\n"
     ]
    }
   ],
   "source": [
    "def num(val):\n",
    "    cnt=0\n",
    "    for i in val:\n",
    "        if i.isdecimal() and int(i)%2==0:\n",
    "            cnt+=int(i)\n",
    "    return cnt\n",
    "s=input('enter the string : '.title())\n",
    "z=num(s)\n",
    "print('RESULT : {}'.format(z))"
   ]
  },
  {
   "cell_type": "code",
   "execution_count": 3,
   "metadata": {},
   "outputs": [
    {
     "name": "stdout",
     "output_type": "stream",
     "text": [
      "Enter The String : PauRisD\n",
      "pAUrISd\n"
     ]
    }
   ],
   "source": [
    "s=input('enter the string : '.title())\n",
    "print(s.swapcase())"
   ]
  },
  {
   "cell_type": "code",
   "execution_count": null,
   "metadata": {},
   "outputs": [],
   "source": []
  }
 ],
 "metadata": {
  "kernelspec": {
   "display_name": "Python 3",
   "language": "python",
   "name": "python3"
  },
  "language_info": {
   "codemirror_mode": {
    "name": "ipython",
    "version": 3
   },
   "file_extension": ".py",
   "mimetype": "text/x-python",
   "name": "python",
   "nbconvert_exporter": "python",
   "pygments_lexer": "ipython3",
   "version": "3.7.3"
  }
 },
 "nbformat": 4,
 "nbformat_minor": 2
}
