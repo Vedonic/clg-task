{
 "cells": [
  {
   "cell_type": "code",
   "execution_count": 3,
   "metadata": {},
   "outputs": [
    {
     "name": "stdout",
     "output_type": "stream",
     "text": [
      "[1, 2, 3, 4, 6]\n"
     ]
    }
   ],
   "source": [
    "def facls(n):\n",
    "    i=1\n",
    "    lt=[]\n",
    "    while i!=n:\n",
    "        if n%i==0:\n",
    "            lt.append(i)\n",
    "        i+=1\n",
    "    print(lt)\n",
    "facls(12)"
   ]
  },
  {
   "cell_type": "markdown",
   "metadata": {},
   "source": [
    "Example"
   ]
  },
  {
   "cell_type": "code",
   "execution_count": 5,
   "metadata": {},
   "outputs": [
    {
     "name": "stdout",
     "output_type": "stream",
     "text": [
      "1 2 3 4 5 6 7 8 9 10 \n",
      "[2, 3, 4, 5, 6, 7, 8, 9]\n",
      "[3, 4, 5, 6, 7, 8]\n",
      "[10, 9, 8, 7, 6, 5, 4, 3, 2, 1]\n",
      "[1, 3, 5, 7, 9]\n",
      "[1, 4, 7, 10]\n",
      "[1, 5, 9]\n",
      "[10, 8, 6, 4, 2]\n"
     ]
    }
   ],
   "source": [
    "lt=[1,2,3,4,5,6,7,8,9,10]\n",
    "for x in lt:\n",
    "    print(x,end=' ')\n",
    "print()\n",
    "print(lt[1:-1])\n",
    "print(lt[2:-2])\n",
    "print(lt[::-1])\n",
    "print(lt[::2])\n",
    "print(lt[::3])\n",
    "print(lt[::4])\n",
    "print(lt[::-2])"
   ]
  },
  {
   "cell_type": "code",
   "execution_count": 17,
   "metadata": {},
   "outputs": [
    {
     "name": "stdout",
     "output_type": "stream",
     "text": [
      "['abc', 'bcd', 'def', 12]\n",
      "['abc', 'bcd', 15, 12]\n",
      "['abc', 'GITAM', 15, 12]\n",
      "[1, 2, 3]\n",
      "['abc', 'GITAM', 15, 12, 1, 2, 3]\n",
      "1\n",
      "4\n"
     ]
    }
   ],
   "source": [
    "l1=['abc','bcd','def',12]\n",
    "print(l1)\n",
    "l1[2]=15\n",
    "print(l1)\n",
    "l1[1]='GITAM'\n",
    "print(l1)\n",
    "l2=[1,2,3]\n",
    "print(l2)\n",
    "print(l1+l2)\n",
    "print(l1.index('GITAM'))\n",
    "print(len(l1))"
   ]
  },
  {
   "cell_type": "code",
   "execution_count": 19,
   "metadata": {},
   "outputs": [
    {
     "name": "stdout",
     "output_type": "stream",
     "text": [
      "[1, 2, 3, 4, 7]\n"
     ]
    }
   ],
   "source": [
    "lt=[2,4,1,7,3]\n",
    "lt.sort()\n",
    "print(lt)"
   ]
  },
  {
   "cell_type": "code",
   "execution_count": 22,
   "metadata": {},
   "outputs": [
    {
     "name": "stdout",
     "output_type": "stream",
     "text": [
      "enter number to search in list 87\n",
      "element found\n"
     ]
    }
   ],
   "source": [
    "def find(val):\n",
    "    global a\n",
    "    try:\n",
    "        k=a.index(val)\n",
    "        print('element found')\n",
    "    except:\n",
    "        print('element not found')\n",
    "a=[1,2,3,4,5,6,87,89]\n",
    "x=input('enter number to search in list ')\n",
    "if x.isdecimal():\n",
    "    find(int(x))\n",
    "else:\n",
    "    print('a number is required ')"
   ]
  },
  {
   "cell_type": "code",
   "execution_count": 27,
   "metadata": {},
   "outputs": [
    {
     "name": "stdout",
     "output_type": "stream",
     "text": [
      "enter the size of list 5\n",
      "Enter The List Item1\n",
      "Enter The List Item2\n",
      "Enter The List Item3\n",
      "Enter The List Item4\n",
      "Enter The List Item3\n",
      "Enter The Element To Search3\n",
      "1\n",
      "2\n"
     ]
    }
   ],
   "source": [
    "def searc(val):\n",
    "    global lt\n",
    "    c=0\n",
    "    try:\n",
    "        for i in lt:\n",
    "            if str(i)==str(val):\n",
    "                c+=1\n",
    "                print(c)\n",
    "    except:\n",
    "        print('please check values again')\n",
    "\n",
    "x=int(input('enter the size of list ').title())\n",
    "lt=[]\n",
    "for i in range(x):\n",
    "    lt.append(input('enter the list item'.title()))\n",
    "val=input('enter the element to search'.title())\n",
    "searc(val)"
   ]
  },
  {
   "cell_type": "code",
   "execution_count": 29,
   "metadata": {},
   "outputs": [
    {
     "name": "stdout",
     "output_type": "stream",
     "text": [
      "enter the size of list 3\n",
      "Enter The List Item1\n",
      "Enter The List Item1\n",
      "Enter The List Item\n",
      "Enter The Element To Search1\n"
     ]
    }
   ],
   "source": [
    "def searc(val):\n",
    "    global lt\n",
    "    c=0\n",
    "    ls=[]\n",
    "    try:\n",
    "        for i in range(len(lt)):\n",
    "            s=''\n",
    "            if lt[i]==str(val):\n",
    "                for i in range(i):\n",
    "                    s+='!'\n",
    "                ls.append(s)\n",
    "        print(ls)\n",
    "    except:\n",
    "        print('please check values again')\n",
    "\n",
    "x=int(input('enter the size of list ').title())\n",
    "lt=[]\n",
    "for i in range(x):\n",
    "    lt.append(input('enter the list item'.title()))\n",
    "val=input('enter the element to search'.title())"
   ]
  },
  {
   "cell_type": "code",
   "execution_count": 31,
   "metadata": {},
   "outputs": [
    {
     "name": "stdout",
     "output_type": "stream",
     "text": [
      "enter the size of list7\n",
      "Enter The List Item1\n",
      "Enter The List Item6\n",
      "Enter The List Item9\n",
      "Enter The List Item4\n",
      "Enter The List Item16\n",
      "Enter The List Item19\n",
      "Enter The List Item22\n",
      "1 9 19 22\n"
     ]
    }
   ],
   "source": [
    "l=int(input('enter the size of list'))\n",
    "lt=[]\n",
    "for i in range(l):\n",
    "    lt.append(input('enter the list item'.title()))\n",
    "s=''\n",
    "s+=str(lt[0])\n",
    "for i in range(1,l):\n",
    "    if int(lt[i-1])%2==0 and int(lt[i+1])%2==0:\n",
    "        s+=' '+str(lt[i])\n",
    "s+=' '+str(lt[-1])\n",
    "print(s)"
   ]
  },
  {
   "cell_type": "code",
   "execution_count": 32,
   "metadata": {},
   "outputs": [
    {
     "name": "stdout",
     "output_type": "stream",
     "text": [
      "enter a number12324\n",
      "['1', '2', '3', '2', '4']\n"
     ]
    }
   ],
   "source": [
    "x=input('enter a number')\n",
    "lt=[]\n",
    "if x.isdecimal():\n",
    "    for i in x:\n",
    "        lt.append(i)\n",
    "else:\n",
    "    print('please enter a number')\n",
    "print(lt)"
   ]
  },
  {
   "cell_type": "code",
   "execution_count": null,
   "metadata": {},
   "outputs": [],
   "source": []
  }
 ],
 "metadata": {
  "kernelspec": {
   "display_name": "Python 3",
   "language": "python",
   "name": "python3"
  },
  "language_info": {
   "codemirror_mode": {
    "name": "ipython",
    "version": 3
   },
   "file_extension": ".py",
   "mimetype": "text/x-python",
   "name": "python",
   "nbconvert_exporter": "python",
   "pygments_lexer": "ipython3",
   "version": "3.7.3"
  }
 },
 "nbformat": 4,
 "nbformat_minor": 2
}
